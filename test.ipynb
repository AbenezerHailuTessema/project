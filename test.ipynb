{
 "cells": [
  {
   "cell_type": "code",
   "execution_count": 1,
   "metadata": {},
   "outputs": [],
   "source": [
    "import cv2\n",
    "import numpy as np\n",
    "\n",
    
    "cap = cv2.VideoCapture(0)  # 0 for the default camera\n",
    "\n",
    "while True:\n",
    "    
    "    ret, frame = cap.read()\n",
    "\n",
    "    if not ret:\n",
    "        break\n",
    "\n",
    "    
    "    hsv = cv2.cvtColor(frame, cv2.COLOR_BGR2HSV)\n",
    "\n",
    "    
    "    lower_red = np.array([0, 100, 100])\n",
    "    lower_green = np.array([40, 40, 40])\n",
    "\n",
    "   
    "    mask_red = cv2.inRange(hsv, lower_red, np.array([10, 255, 255]))\n",
    "    mask_green = cv2.inRange(hsv, lower_green, np.array([80, 255, 255]))\n",
    "\n",
    "   
    "    contours_red, _ = cv2.findContours(mask_red, cv2.RETR_EXTERNAL, cv2.CHAIN_APPROX_SIMPLE)\n",
    "    contours_green, _ = cv2.findContours(mask_green, cv2.RETR_EXTERNAL, cv2.CHAIN_APPROX_SIMPLE)\n",
    "\n",
    "   
    "    frame_with_contours = frame.copy()\n",
    "    cv2.drawContours(frame_with_contours, contours_red, -1, (0, 0, 255), 2)  # Red contours\n",
    "    cv2.drawContours(frame_with_contours, contours_green, -1, (0, 255, 0), 2)  # Green contours\n",
    "\n",
    "   
    "    if len(contours_red) > 0 and len(contours_green) == 0:\n",
    "        cv2.putText(frame_with_contours, 'Red tomato detected!', (10, 50), cv2.FONT_HERSHEY_SIMPLEX, 1, (0, 0, 255), 2, cv2.LINE_AA)\n",
    "    elif len(contours_green) > 0 and len(contours_red) == 0:\n",
    "        cv2.putText(frame_with_contours, 'Green tomato detected!', (10, 50), cv2.FONT_HERSHEY_SIMPLEX, 1, (0, 255, 0), 2, cv2.LINE_AA)\n",
    "    elif len(contours_red) > 0 and len(contours_green) > 0:\n",
    "        cv2.putText(frame_with_contours, 'Unriped Tomato Detected!', (10, 50), cv2.FONT_HERSHEY_SIMPLEX, 1, (0, 255, 255), 2, cv2.LINE_AA)\n",
    "\n",
    "   
    "    cv2.imshow(\"Frame\", frame_with_contours)\n",
    "\n",
    "    
    "    if cv2.waitKey(1) & 0xFF == ord('q'):\n",
    "        break\n",
    "\n",
   
    "cap.release()\n",
    "cv2.destroyAllWindows()\n",
    "\n",
    "\n",
    "\n",
    "\n",
    "\n",
    "\n",
    "    "
   ]
  }
 ],
 "metadata": {
  "kernelspec": {
   "display_name": "Python 3",
   "language": "python",
   "name": "python3"
  },
  "language_info": {
   "codemirror_mode": {
    "name": "ipython",
    "version": 3
   },
   "file_extension": ".py",
   "mimetype": "text/x-python",
   "name": "python",
   "nbconvert_exporter": "python",
   "pygments_lexer": "ipython3",
   "version": "3.11.4"
  },
  "orig_nbformat": 4
 },
 "nbformat": 4,
 "nbformat_minor": 2
}
